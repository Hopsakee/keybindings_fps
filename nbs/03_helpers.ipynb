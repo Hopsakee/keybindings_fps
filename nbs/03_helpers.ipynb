{
 "cells": [
  {
   "cell_type": "markdown",
   "metadata": {},
   "source": [
    "# Functions to ease the building of the FastHTML app\n",
    "\n",
    "> This module contains several functions that are used in creating the FastHTML gui that makes the handling of the keybindings database more user friendly."
   ]
  },
  {
   "cell_type": "code",
   "execution_count": null,
   "metadata": {},
   "outputs": [],
   "source": [
    "#| default_exp helpers"
   ]
  },
  {
   "cell_type": "code",
   "execution_count": null,
   "metadata": {},
   "outputs": [],
   "source": [
    "#| hide\n",
    "from nbdev.showdoc import *"
   ]
  },
  {
   "cell_type": "code",
   "execution_count": null,
   "metadata": {},
   "outputs": [],
   "source": [
    "#| export\n",
    "from fasthtml.common import *\n",
    "from monsterui.all import *\n",
    "from fastcore.test import *"
   ]
  },
  {
   "cell_type": "markdown",
   "metadata": {},
   "source": [
    "## General helpers"
   ]
  },
  {
   "cell_type": "code",
   "execution_count": null,
   "metadata": {},
   "outputs": [],
   "source": [
    "#| export\n",
    "def get_project_root() -> Optional[Path]:\n",
    "    \"\"\"Get the project root directory from either notebook or module context\"\"\"\n",
    "    try:\n",
    "        try:\n",
    "            get_ipython()\n",
    "            current = Path.cwd()\n",
    "        except NameError:\n",
    "            current = Path(__file__).resolve().parent\n",
    "\n",
    "        while current != current.parent: # Stop at root directory\n",
    "            if (current / 'pyproject.toml').exists():\n",
    "                return current\n",
    "            current = current.parent\n",
    "        raise FileNotFoundError(\"Could not find pyproject.toml in any parent directory\")\n",
    "    except Exception as e:\n",
    "        print(f\"Error finding project root: {str(e)}\")\n",
    "        return None"
   ]
  },
  {
   "cell_type": "markdown",
   "metadata": {},
   "source": [
    "## Gui helpers"
   ]
  },
  {
   "cell_type": "code",
   "execution_count": null,
   "metadata": {},
   "outputs": [],
   "source": [
    "#| export\n",
    "def nav():\n",
    "    \"\"\"Create a navigation bar\"\"\"\n",
    "    nav = NavBarContainer(\n",
    "        NavBarLSide(\n",
    "            NavBarNav(\n",
    "                Li(A(\"Games\", href=\"/\", cls=(\"text-secondary\"))),\n",
    "            )\n",
    "        ),\n",
    "        NavBarRSide(\n",
    "            NavBarNav(\n",
    "                Li(A(\"Add Game\", href=\"/add_game\", cls=(\"text-secondary\"))),\n",
    "                Li(A(\"Add new action\", href=\"/add_action\", cls=(\"text-secondary\"))),\n",
    "                Li(A(\"Settings\", href=\"/settings\", cls=(\"text-secondary\"))),\n",
    "            )\n",
    "        )\n",
    "    )\n",
    "    return nav"
   ]
  },
  {
   "cell_type": "code",
   "execution_count": null,
   "metadata": {},
   "outputs": [],
   "source": [
    "#| export\n",
    "def base_layout(content):\n",
    "    \"\"\"Base layout with navigation bar\"\"\"\n",
    "    return Container(nav(), Div(content, id=\"content-area\"), id=\"base-layout\")"
   ]
  },
  {
   "cell_type": "code",
   "execution_count": null,
   "metadata": {},
   "outputs": [],
   "source": [
    "#| export\n",
    "def ex_theme_switcher():\n",
    "    from fasthtml.components import Uk_theme_switcher\n",
    "    return Uk_theme_switcher()"
   ]
  },
  {
   "cell_type": "code",
   "execution_count": null,
   "metadata": {},
   "outputs": [],
   "source": [
    "#| hide\n",
    "import nbdev; nbdev.nbdev_export()"
   ]
  }
 ],
 "metadata": {
  "kernelspec": {
   "display_name": "base",
   "language": "python",
   "name": "python3"
  },
  "language_info": {
   "name": "python",
   "version": "3.12.2"
  }
 },
 "nbformat": 4,
 "nbformat_minor": 4
}
