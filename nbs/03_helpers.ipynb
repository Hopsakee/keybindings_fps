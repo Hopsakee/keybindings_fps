{
 "cells": [
  {
   "cell_type": "markdown",
   "metadata": {},
   "source": [
    "# Functions to ease the building of the FastHTML app\n",
    "\n",
    "> This module contains several functions that are used in creating the FastHTML gui that makes the handling of the keybindings database more user friendly."
   ]
  },
  {
   "cell_type": "code",
   "execution_count": 9,
   "metadata": {},
   "outputs": [],
   "source": [
    "#| default_exp helpers"
   ]
  },
  {
   "cell_type": "code",
   "execution_count": 10,
   "metadata": {},
   "outputs": [],
   "source": [
    "#| hide\n",
    "from nbdev.showdoc import *"
   ]
  },
  {
   "cell_type": "code",
   "execution_count": 11,
   "metadata": {},
   "outputs": [],
   "source": [
    "#| export\n",
    "from fasthtml.common import *\n",
    "from fastcore.test import *"
   ]
  },
  {
   "cell_type": "markdown",
   "metadata": {},
   "source": [
    "## General helpers"
   ]
  },
  {
   "cell_type": "code",
   "execution_count": 14,
   "metadata": {},
   "outputs": [],
   "source": [
    "#| export\n",
    "def get_project_root() -> Optional[Path]:\n",
    "    \"\"\"Get the project root directory from either notebook or module context\"\"\"\n",
    "    try:\n",
    "        try:\n",
    "            get_ipython()\n",
    "            current = Path.cwd()\n",
    "        except NameError:\n",
    "            current = Path(__file__).resolve().parent\n",
    "\n",
    "        while current != current.parent: # Stop at root directory\n",
    "            if (current / 'pyproject.toml').exists():\n",
    "                return current\n",
    "            current = current.parent\n",
    "        raise FileNotFoundError(\"Could not find pyproject.toml in any parent directory\")\n",
    "    except Exception as e:\n",
    "        print(f\"Error finding project root: {str(e)}\")\n",
    "        return None"
   ]
  },
  {
   "cell_type": "code",
   "execution_count": 15,
   "metadata": {},
   "outputs": [],
   "source": [
    "#| export\n",
    "test_eq(get_project_root(), Path('/home/jelle/code/keybindings_fps'))"
   ]
  },
  {
   "cell_type": "markdown",
   "metadata": {},
   "source": [
    "## Gui helpers"
   ]
  },
  {
   "cell_type": "code",
   "execution_count": 5,
   "metadata": {},
   "outputs": [],
   "source": [
    "#| export\n",
    "def update_binding_order(db: database,\n",
    "                         binding_id: int,\n",
    "                         new_order: int):\n",
    "    \"\"\"Update the sort_order of a binding\"\"\"\n",
    "    db.t.bindings.update(dict(id=binding_id, sort_order=new_order))"
   ]
  },
  {
   "cell_type": "code",
   "execution_count": null,
   "metadata": {},
   "outputs": [],
   "source": [
    "#| hide\n",
    "import nbdev; nbdev.nbdev_export()"
   ]
  }
 ],
 "metadata": {
  "kernelspec": {
   "display_name": "base",
   "language": "python",
   "name": "python3"
  },
  "language_info": {
   "codemirror_mode": {
    "name": "ipython",
    "version": 3
   },
   "file_extension": ".py",
   "mimetype": "text/x-python",
   "name": "python",
   "nbconvert_exporter": "python",
   "pygments_lexer": "ipython3",
   "version": "3.12.2"
  }
 },
 "nbformat": 4,
 "nbformat_minor": 4
}
