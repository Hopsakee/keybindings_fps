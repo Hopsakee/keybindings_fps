{
 "cells": [
  {
   "cell_type": "markdown",
   "metadata": {},
   "source": [
    "# Functions to ease the creation and manipulation of the keybinding tables in the GUI\n",
    "\n",
    "> This module contains several functions that are used in creating the FastHTML gui binding tables."
   ]
  },
  {
   "cell_type": "code",
   "execution_count": null,
   "metadata": {},
   "outputs": [],
   "source": [
    "#| default_exp gui_binding_tables"
   ]
  },
  {
   "cell_type": "code",
   "execution_count": null,
   "metadata": {},
   "outputs": [],
   "source": [
    "#| hide\n",
    "from nbdev.showdoc import *"
   ]
  },
  {
   "cell_type": "code",
   "execution_count": null,
   "metadata": {},
   "outputs": [],
   "source": [
    "#| export\n",
    "from fasthtml.common import *\n",
    "from monsterui.all import *\n",
    "from fastcore.test import *"
   ]
  },
  {
   "cell_type": "code",
   "execution_count": null,
   "metadata": {},
   "outputs": [],
   "source": [
    "#| export\n",
    "\n",
    "def get_modifier_name(db, modifier_id):\n",
    "    \"\"\"Safely get the modifier name, returning 'None' if not found\"\"\"\n",
    "    try:\n",
    "        return next(db.t.modifiers.rows_where(\"id = ?\", [modifier_id]))['name']\n",
    "    except StopIteration:\n",
    "        return 'None'"
   ]
  },
  {
   "cell_type": "code",
   "execution_count": null,
   "metadata": {},
   "outputs": [],
   "source": [
    "#| export\n",
    "def get_key_name(db, key_id):\n",
    "    \"\"\"Safely get the key name, returning 'Please select  key' if not found\"\"\"\n",
    "    try:\n",
    "        return next(db.t.game_keys.rows_where(\"id = ?\", [key_id]))['name']\n",
    "    except StopIteration:\n",
    "        return 'Please select a key'"
   ]
  },
  {
   "cell_type": "code",
   "execution_count": null,
   "metadata": {},
   "outputs": [],
   "source": [
    "#| export\n",
    "def get_action_name(db, action_id):\n",
    "    \"\"\"Safely get the action name, returning 'Unknow action' if not fouund\"\"\"\n",
    "    try:\n",
    "        return next(db.t.actions.rows_where(\"id = ?\", [action_id]))['name']\n",
    "    except StopIteration:\n",
    "        return 'Unknown action'"
   ]
  },
  {
   "cell_type": "code",
   "execution_count": null,
   "metadata": {},
   "outputs": [],
   "source": [
    "#| export\n",
    "def create_binding_table_category(db, game_id, action_category_id, print_layout=False):\n",
    "    print(\"Creating binding table for category\", action_category_id)\n",
    "    print(\"Game ID:\", game_id)\n",
    "\n",
    "    \"\"\"Helper function to create the bindings table for a given action category\"\"\"\n",
    "    # Get all categories and create lookup dicts\n",
    "    cat_actions = db.t.actions.rows_where(\"category_id = ?\", [action_category_id])\n",
    "    action_ids = L(cat_actions).attrgot(\"id\")\n",
    "\n",
    "    cat_name = L(db.t.categories.rows_where(\"id = ?\", [action_category_id])).attrgot('name')[0]\n",
    "\n",
    "    # Create table with category groups\n",
    "    table_heading = Tr(\n",
    "        Th(\"  \", style=\"width:10px;\"),\n",
    "        Th(\"Action\"),\n",
    "        Th(\"Key\"),\n",
    "        Th(\"Modifier\"),\n",
    "        Th(\"Game native description\"),\n",
    "        Th(\"Actions\")\n",
    "    )\n",
    "\n",
    "    if print_layout:\n",
    "        table_heading = Tr(\n",
    "            Th(\"Action\"),\n",
    "            Th(\"Key (modifier)\")\n",
    "        )\n",
    "\n",
    "    text_style = TextT.justify\n",
    "\n",
    "    rows = []\n",
    "       \n",
    "    # Add bindings for this category\n",
    "    action_ids_str = ','.join(str(id) for id in action_ids) \n",
    "    # Convert action_ids to string. Converting to a tuple creates a trailing comma with only one element. Which gives invalid SQL syntax.\n",
    "    where_string = f\"game_id = {game_id} AND action_id IN ({action_ids_str}) ORDER BY sort_order\"\n",
    "\n",
    "    def non_tap_modifier(modifier):\n",
    "        if modifier != \"tap\":\n",
    "            return f\"   ({modifier})\"\n",
    "        return \"\"\n",
    "\n",
    "    for b in db.t.bindings.rows_where(where_string):\n",
    "        if not print_layout:\n",
    "            rows.append(Tr(\n",
    "                Td(\"⋮⋮\", style=\"width: 10px;\"),\n",
    "                Td(get_action_name(db, b['action_id']),\n",
    "                    cls=text_style),\n",
    "                Td(get_key_name(db, b['key_id']),\n",
    "                    cls=text_style),\n",
    "                Td(get_modifier_name(db, b['modifier_id']),\n",
    "                    cls=text_style),\n",
    "                Td(b['description'],\n",
    "                    cls=text_style),\n",
    "                Td(Button(\"Edit\", \n",
    "                        hx_get=f\"/binding/{b['id']}/edit\",\n",
    "                        hx_target=\"#bindings-table\",\n",
    "                        cls=ButtonT.secondary),\n",
    "                    Button(\"Delete\", \n",
    "                        hx_delete=f\"/binding/{b['id']}/delete\",\n",
    "                        hx_target=f\"#form-category-{action_category_id}\",\n",
    "                        cls=ButtonT.destructive),\n",
    "                    cls=\"space-x-2\"),\n",
    "                Hidden(name=\"binding_id\", value=b['id']),\n",
    "                )\n",
    "            )\n",
    "        if print_layout:\n",
    "            rows.append(Tr(\n",
    "                Td(get_action_name(db, b['action_id']),\n",
    "                    cls=text_style),\n",
    "                Td(get_key_name(db, b['key_id']),\n",
    "                P(non_tap_modifier(get_modifier_name(db, b['modifier_id'])), cls=TextT.italic),\n",
    "                cls=text_style),\n",
    "                Td(b['description'], cls=TextT.muted),\n",
    "                Hidden(name=\"binding_id\", value=b['id']),\n",
    "                )\n",
    "            )\n",
    "    \n",
    "    return Div(\n",
    "        P(cat_name, cls=(TextT.lg, TextT.bold, TextT.primary, TextT.center)),\n",
    "        Form(\n",
    "            Table(Thead(table_heading),\n",
    "                  Tbody(*rows,\n",
    "                        cls='sortable',\n",
    "                        id=f\"sortable-tbody-{action_category_id}\"),\n",
    "                cls=(TableT.hover, TableT.sm, TableT.striped)\n",
    "            ),\n",
    "            hx_post=f\"/game/{game_id}/reorder_bindings/{action_category_id}\",\n",
    "            hx_trigger=\"end from:tbody\",\n",
    "            hx_target=f\"#form-category-{action_category_id}\",\n",
    "        ),\n",
    "        id=f\"form-category-{action_category_id}\"\n",
    "    )"
   ]
  },
  {
   "cell_type": "code",
   "execution_count": null,
   "metadata": {},
   "outputs": [],
   "source": [
    "#| export\n",
    "def create_bindings_table(db, game_id):\n",
    "    \"\"\"Create tables for all action categories and stack them vertically\"\"\"\n",
    "    # Get all unique category IDs\n",
    "    categories = db.t.categories.rows_where(\"id IN (SELECT DISTINCT category_id FROM actions)\")\n",
    "    category_ids = L(categories).attrgot('id')\n",
    "    \n",
    "    # Create a table for each category\n",
    "    tables = [create_binding_table_category(db, game_id, cat_id) for cat_id in category_ids]\n",
    "    \n",
    "    # Stack tables in a container div\n",
    "    return Div(*tables, id=\"all-bindings-tables\")\n"
   ]
  },
  {
   "cell_type": "code",
   "execution_count": null,
   "metadata": {},
   "outputs": [],
   "source": [
    "#| export\n",
    "def create_bindings_table_print(db, game_id):\n",
    "\n",
    "    categories = db.t.categories.rows_where(\"id IN (SELECT DISTINCT category_id FROM actions)\")\n",
    "    category_ids = L(categories).attrgot('id')\n",
    "\n",
    "    tables = [create_binding_table_category(db, game_id, cat_id, print_layout=True) for cat_id in category_ids]\n",
    "\n",
    "    return Card(Grid(\n",
    "        Card(tables[0]),\n",
    "        Card(tables[1]),\n",
    "        Card(*tables[2:]),\n",
    "        cols=3, cls='gap-12'))"
   ]
  },
  {
   "cell_type": "code",
   "execution_count": null,
   "metadata": {},
   "outputs": [],
   "source": [
    "#| export\n",
    "def create_actions_table(db):\n",
    "    \"\"\"Create a table for all actions\"\"\"\n",
    "    headers = db.t.actions()[0].keys()\n",
    "    rows = db.t.actions()\n",
    "    return TableFromDicts(headers, rows, id=\"actions-table\")"
   ]
  },
  {
   "cell_type": "code",
   "execution_count": null,
   "metadata": {},
   "outputs": [],
   "source": [
    "#| hide\n",
    "import nbdev; nbdev.nbdev_export()"
   ]
  }
 ],
 "metadata": {
  "kernelspec": {
   "display_name": "python3",
   "language": "python",
   "name": "python3"
  }
 },
 "nbformat": 4,
 "nbformat_minor": 4
}
