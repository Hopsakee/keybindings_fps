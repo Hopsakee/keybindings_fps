{
 "cells": [
  {
   "cell_type": "markdown",
   "metadata": {},
   "source": [
    "# create database\n",
    "\n",
    "> Core database functionality for the keybindings_fps app. This module is meant to run once to create the database and tables. Don't run this module again if the database already exists, because it will drop the existing tables."
   ]
  },
  {
   "cell_type": "code",
   "execution_count": 2,
   "metadata": {},
   "outputs": [],
   "source": [
    "#| default_exp create_db"
   ]
  },
  {
   "cell_type": "code",
   "execution_count": 3,
   "metadata": {},
   "outputs": [],
   "source": [
    "#| hide\n",
    "from nbdev.showdoc import *"
   ]
  },
  {
   "cell_type": "code",
   "execution_count": 4,
   "metadata": {},
   "outputs": [],
   "source": [
    "#| export\n",
    "from pathlib import Path\n",
    "from fastcore.test import *\n",
    "from fasthtml.common import *"
   ]
  },
  {
   "cell_type": "code",
   "execution_count": 5,
   "metadata": {},
   "outputs": [],
   "source": [
    "#| export\n",
    "def get_project_root():\n",
    "    \"\"\"Get the project root directory from either notebook or module context\"\"\"\n",
    "    try:\n",
    "        # When running as a module\n",
    "        return Path(__file__).parent.parent.parent\n",
    "    except NameError:\n",
    "        # When running in notebook\n",
    "        return Path.cwd().parent"
   ]
  },
  {
   "cell_type": "code",
   "execution_count": 6,
   "metadata": {},
   "outputs": [
    {
     "data": {
      "text/plain": [
       "Path('/home/jelle/code/keybindings_fps')"
      ]
     },
     "execution_count": 6,
     "metadata": {},
     "output_type": "execute_result"
    }
   ],
   "source": [
    "#| hide\n",
    "get_project_root()"
   ]
  },
  {
   "cell_type": "code",
   "execution_count": 7,
   "metadata": {},
   "outputs": [],
   "source": [
    "#|export\n",
    "def init_db(data_dir=None):\n",
    "    \"\"\"Initialize the database connection\n",
    "    Args:\n",
    "        data_dir: Optional path to data directory. If None, uses project's data dir\n",
    "    \"\"\"\n",
    "    if data_dir is None:\n",
    "        data_dir = get_project_root() / 'data'\n",
    "    data_dir.mkdir(exist_ok=True)\n",
    "    return database(data_dir / 'game_bindings.db')"
   ]
  },
  {
   "cell_type": "code",
   "execution_count": 9,
   "metadata": {},
   "outputs": [],
   "source": [
    "db = init_db()"
   ]
  },
  {
   "cell_type": "code",
   "execution_count": null,
   "metadata": {},
   "outputs": [],
   "source": [
    "#|export\n",
    "def create_tables(db, overwrite_existing=False):\n",
    "    \"\"\"Create all required database tables.\n",
    "    WARNING: This will drop existing tables!\n",
    "    \"\"\"\n",
    "    if overwrite_existing:\n",
    "        replace=True\n",
    "        transform=False\n",
    "    else:\n",
    "        replace=False\n",
    "        transform=True\n",
    "    \n",
    "    tables = ['categories', 'actions', 'games', 'game_keys', 'modifiers', 'bindings']\n",
    "    \n",
    "    # Drop tables if they exist\n",
    "    for table in tables:\n",
    "        if table in db.t:\n",
    "            db.t[table].drop()\n",
    "    \n",
    "    # Create categories table\n",
    "    db.t.categories.create(\n",
    "        id=int,\n",
    "        name=str,\n",
    "        description=str,\n",
    "        pk='id',\n",
    "        not_null=['name'],\n",
    "        transform=transform\n",
    "        replace=replace\n",
    "    )\n",
    "    \n",
    "    # Create actions table\n",
    "    db.t.actions.create(\n",
    "        id=int,\n",
    "        name=str,\n",
    "        description=str,\n",
    "        category_id=int,\n",
    "        pk='id',\n",
    "        not_null=['name', 'category_id'],\n",
    "        transform=transform\n",
    "        replace=replace\n",
    "    )\n",
    "    \n",
    "    # Create games table\n",
    "    db.t.games.create(\n",
    "        id=int,\n",
    "        name=str,\n",
    "        game_type=str,\n",
    "        image=bytes,\n",
    "        pk='id',\n",
    "        not_null=['name'],\n",
    "        transform=transform\n",
    "        replace=replace\n",
    "    )\n",
    "    \n",
    "    # Create game_keys table\n",
    "    db.t.game_keys.create(\n",
    "        id=int,\n",
    "        name=str,\n",
    "        pk='id',\n",
    "        not_null=['name'],\n",
    "        transform=transform\n",
    "        replace=replace\n",
    "    )\n",
    "    \n",
    "    # Create modifiers table\n",
    "    db.t.modifiers.create(\n",
    "        id=int,\n",
    "        name=str,\n",
    "        pk='id',\n",
    "        not_null=['name'],\n",
    "        transform=transform\n",
    "        replace=replace\n",
    "    )\n",
    "    \n",
    "    # Create bindings table\n",
    "    db.t.bindings.create(\n",
    "        id=int,\n",
    "        game_id=int,\n",
    "        action_id=int,\n",
    "        key_id=int,\n",
    "        modifier_id=int,\n",
    "        description=str,\n",
    "        sort_order=int,\n",
    "        pk='id',\n",
    "        not_null=['game_id', 'action_id', 'key_id', 'modifier_id'],\n",
    "        transform=transform\n",
    "        replace=replace\n",
    "    )\n"
   ]
  },
  {
   "cell_type": "markdown",
   "metadata": {},
   "source": [
    "### Open existing database in project data directory"
   ]
  },
  {
   "cell_type": "code",
   "execution_count": 8,
   "metadata": {},
   "outputs": [],
   "source": [
    "db = init_db()"
   ]
  },
  {
   "cell_type": "markdown",
   "metadata": {},
   "source": [
    "## Modify structure of database tables"
   ]
  },
  {
   "cell_type": "markdown",
   "metadata": {},
   "source": [
    "#### Add a new column to an existing table"
   ]
  },
  {
   "cell_type": "code",
   "execution_count": 9,
   "metadata": {},
   "outputs": [],
   "source": [
    "#| export\n",
    "def add_clmn_to_table(db, table, column, col_type, **kwargs):\n",
    "    \"\"\"Add a new column to an existing table\"\"\"\n",
    "    if column in db.t[table].c:\n",
    "        print(f\"Column {column} already exists in table {table}\")\n",
    "    else:\n",
    "        return db.t[table].add_column(column, col_type, **kwargs)"
   ]
  },
  {
   "cell_type": "code",
   "execution_count": 67,
   "metadata": {},
   "outputs": [
    {
     "data": {
      "text/plain": [
       "action_id, game_id, id, key_id, modifier_id, sort_order"
      ]
     },
     "execution_count": 67,
     "metadata": {},
     "output_type": "execute_result"
    }
   ],
   "source": [
    "db.t['bindings'].c"
   ]
  },
  {
   "cell_type": "code",
   "execution_count": 58,
   "metadata": {},
   "outputs": [
    {
     "data": {
      "text/plain": [
       "<Table bindings (id, game_id, action_id, key_id, modifier_id, sort_order, test)>"
      ]
     },
     "execution_count": 58,
     "metadata": {},
     "output_type": "execute_result"
    }
   ],
   "source": [
    "add_clmn_to_table(db, 'bindings', 'test', str, not_null_default='test text')"
   ]
  },
  {
   "cell_type": "code",
   "execution_count": 59,
   "metadata": {},
   "outputs": [],
   "source": [
    "test_eq(db.t['bindings'].columns[-1].name, 'test')"
   ]
  },
  {
   "cell_type": "markdown",
   "metadata": {},
   "source": [
    "#### Delete/drop a column from an existing table"
   ]
  },
  {
   "cell_type": "code",
   "execution_count": 10,
   "metadata": {},
   "outputs": [],
   "source": [
    "#| export\n",
    "def drop_clmn_from_table(db, table, column):\n",
    "    \"\"\"Drop a column from an existing table\"\"\"\n",
    "    if column not in db.t[table].c:\n",
    "        print(f\"Column {column} does not exist in table {table}\")\n",
    "    else:\n",
    "        return db.t[table].drop_column(column)"
   ]
  },
  {
   "cell_type": "code",
   "execution_count": 62,
   "metadata": {},
   "outputs": [
    {
     "data": {
      "text/plain": [
       "<Table bindings (id, game_id, action_id, key_id, modifier_id, sort_order)>"
      ]
     },
     "execution_count": 62,
     "metadata": {},
     "output_type": "execute_result"
    }
   ],
   "source": [
    "drop_clmn_from_table(db, 'bindings', 'test')"
   ]
  },
  {
   "cell_type": "code",
   "execution_count": 66,
   "metadata": {},
   "outputs": [],
   "source": [
    "test_eq('test' not in db.t['bindings'].c, True)"
   ]
  },
  {
   "cell_type": "code",
   "execution_count": null,
   "metadata": {},
   "outputs": [],
   "source": [
    "#| hide\n",
    "import nbdev; nbdev.nbdev_export()"
   ]
  }
 ],
 "metadata": {
  "kernelspec": {
   "display_name": "base",
   "language": "python",
   "name": "python3"
  },
  "language_info": {
   "codemirror_mode": {
    "name": "ipython",
    "version": 3
   },
   "file_extension": ".py",
   "mimetype": "text/x-python",
   "name": "python",
   "nbconvert_exporter": "python",
   "pygments_lexer": "ipython3",
   "version": "3.12.2"
  }
 },
 "nbformat": 4,
 "nbformat_minor": 4
}
