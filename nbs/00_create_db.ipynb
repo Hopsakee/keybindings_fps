{
 "cells": [
  {
   "cell_type": "markdown",
   "metadata": {},
   "source": [
    "# create database\n",
    "\n",
    "> Core database functionality for the keybindings_fps app. This module is meant to run once to create the database and tables. Don't run this module again if the database already exists, because it will drop the existing tables."
   ]
  },
  {
   "cell_type": "code",
   "execution_count": null,
   "metadata": {},
   "outputs": [],
   "source": [
    "#| default_exp create_db"
   ]
  },
  {
   "cell_type": "code",
   "execution_count": null,
   "metadata": {},
   "outputs": [],
   "source": [
    "#| hide\n",
    "from nbdev.showdoc import *"
   ]
  },
  {
   "cell_type": "code",
   "execution_count": null,
   "metadata": {},
   "outputs": [],
   "source": [
    "#| export\n",
    "from pathlib import Path\n",
    "from fasthtml.common import *"
   ]
  },
  {
   "cell_type": "code",
   "execution_count": null,
   "metadata": {},
   "outputs": [],
   "source": [
    "#| export\n",
    "def get_project_root():\n",
    "    \"\"\"Get the project root directory from either notebook or module context\"\"\"\n",
    "    try:\n",
    "        # When running as a module\n",
    "        return Path(__file__).parent.parent.parent\n",
    "    except NameError:\n",
    "        # When running in notebook\n",
    "        return Path.cwd().parent"
   ]
  },
  {
   "cell_type": "code",
   "execution_count": null,
   "metadata": {},
   "outputs": [
    {
     "data": {
      "text/plain": [
       "Path('/home/jelle/code/keybindings_fps')"
      ]
     },
     "execution_count": null,
     "metadata": {},
     "output_type": "execute_result"
    }
   ],
   "source": [
    "#| hide\n",
    "get_project_root()"
   ]
  },
  {
   "cell_type": "code",
   "execution_count": null,
   "metadata": {},
   "outputs": [],
   "source": [
    "#|export\n",
    "def init_db(data_dir=None):\n",
    "    \"\"\"Initialize the database connection\n",
    "    Args:\n",
    "        data_dir: Optional path to data directory. If None, uses project's data dir\n",
    "    \"\"\"\n",
    "    if data_dir is None:\n",
    "        data_dir = get_project_root() / 'data'\n",
    "    data_dir.mkdir(exist_ok=True)\n",
    "    return database(data_dir / 'game_bindings.db')"
   ]
  },
  {
   "cell_type": "code",
   "execution_count": null,
   "metadata": {},
   "outputs": [],
   "source": [
    "#| hide\n",
    "db = init_db()"
   ]
  },
  {
   "cell_type": "code",
   "execution_count": null,
   "metadata": {},
   "outputs": [],
   "source": [
    "#|export\n",
    "def create_tables(db):\n",
    "    \"\"\"Create all required database tables\"\"\"\n",
    "    tables = ['categories', 'actions', 'games', 'game_keys', 'modifiers', 'bindings']\n",
    "    \n",
    "    # Drop tables if they exist\n",
    "    for table in tables:\n",
    "        if table in db.t:\n",
    "            db.t[table].drop()\n",
    "    \n",
    "    # Create categories table\n",
    "    db.t.categories.create(\n",
    "        id=int,\n",
    "        name=str,\n",
    "        description=str,\n",
    "        pk='id',\n",
    "        not_null=['name'],\n",
    "        replace=True\n",
    "    )\n",
    "    \n",
    "    # Create actions table\n",
    "    db.t.actions.create(\n",
    "        id=int,\n",
    "        name=str,\n",
    "        description=str,\n",
    "        category_id=int,\n",
    "        pk='id',\n",
    "        not_null=['name', 'category_id'],\n",
    "        replace=True\n",
    "    )\n",
    "    \n",
    "    # Create games table\n",
    "    db.t.games.create(\n",
    "        id=int,\n",
    "        name=str,\n",
    "        game_type=str,\n",
    "        image=bytes,\n",
    "        pk='id',\n",
    "        not_null=['name'],\n",
    "        replace=True\n",
    "    )\n",
    "    \n",
    "    # Create game_keys table\n",
    "    db.t.game_keys.create(\n",
    "        id=int,\n",
    "        name=str,\n",
    "        pk='id',\n",
    "        not_null=['name'],\n",
    "        replace=True\n",
    "    )\n",
    "    \n",
    "    # Create modifiers table\n",
    "    db.t.modifiers.create(\n",
    "        id=int,\n",
    "        name=str,\n",
    "        pk='id',\n",
    "        not_null=['name'],\n",
    "        replace=True\n",
    "    )\n",
    "    \n",
    "    # Create bindings table\n",
    "    db.t.bindings.create(\n",
    "        id=int,\n",
    "        game_id=int,\n",
    "        action_id=int,\n",
    "        key_id=int,\n",
    "        modifier_id=int,\n",
    "        pk='id',\n",
    "        not_null=['game_id', 'action_id', 'key_id', 'modifier_id'],\n",
    "        replace=True\n",
    "    )\n"
   ]
  },
  {
   "cell_type": "code",
   "execution_count": null,
   "metadata": {},
   "outputs": [],
   "source": [
    "#| hide\n",
    "create_tables(db)\n",
    "db.t"
   ]
  },
  {
   "cell_type": "markdown",
   "metadata": {},
   "source": [
    "### Open existing database in project data directory"
   ]
  },
  {
   "cell_type": "code",
   "execution_count": null,
   "metadata": {},
   "outputs": [],
   "source": [
    "db = init_db()"
   ]
  },
  {
   "cell_type": "code",
   "execution_count": null,
   "metadata": {},
   "outputs": [
    {
     "data": {
      "text/plain": [
       "[]"
      ]
     },
     "execution_count": null,
     "metadata": {},
     "output_type": "execute_result"
    }
   ],
   "source": [
    "db.t.actions()"
   ]
  },
  {
   "cell_type": "code",
   "execution_count": null,
   "metadata": {},
   "outputs": [],
   "source": [
    "#| hide\n",
    "import nbdev; nbdev.nbdev_export()"
   ]
  }
 ],
 "metadata": {
  "kernelspec": {
   "display_name": "python3",
   "language": "python",
   "name": "python3"
  }
 },
 "nbformat": 4,
 "nbformat_minor": 4
}
