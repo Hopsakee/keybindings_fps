{
 "cells": [
  {
   "cell_type": "markdown",
   "metadata": {},
   "source": [
    "# populate database with defaults\n",
    "\n",
    "> Populate the created database with the default values for 'modifiers', 'actions', 'games', 'game_keys', 'categories' and 'bindings'. "
   ]
  },
  {
   "cell_type": "code",
   "execution_count": null,
   "metadata": {},
   "outputs": [],
   "source": [
    "#| default_exp populate_db_defaults"
   ]
  },
  {
   "cell_type": "code",
   "execution_count": null,
   "metadata": {},
   "outputs": [],
   "source": [
    "#| hide\n",
    "from nbdev.showdoc import *"
   ]
  },
  {
   "cell_type": "code",
   "execution_count": null,
   "metadata": {},
   "outputs": [],
   "source": [
    "#| export\n",
    "from pathlib import Path\n",
    "from fasthtml.common import *\n",
    "from keybindings_fps.create_db import *\n",
    "from keybindings_fps.manipulate_db import *"
   ]
  },
  {
   "cell_type": "code",
   "execution_count": null,
   "metadata": {},
   "outputs": [],
   "source": [
    "#|export\n",
    "def populate_categories(db):\n",
    "    \"\"\"Populate the categories table with initial data\"\"\"\n",
    "    categories = [\n",
    "        ('movement', 'Movement related actions'),\n",
    "        ('combat', 'Combat related actions'),\n",
    "        ('interaction', 'Manipulate the environment'),\n",
    "        ('communication', 'Communicate with friends and bots'),\n",
    "        ('menu', 'Access the menus')\n",
    "    ]\n",
    "    \n",
    "    for name, description in categories:\n",
    "        db.t.categories.insert(dict(name=name, description=description))\n"
   ]
  },
  {
   "cell_type": "code",
   "execution_count": null,
   "metadata": {},
   "outputs": [],
   "source": [
    "#|export\n",
    "def populate_modifiers(db):\n",
    "    \"\"\"Populate the modifiers table with initial data\"\"\"\n",
    "    modifiers = ['tap', 'hold', 'scroll', 'double_tap']\n",
    "    \n",
    "    for name in modifiers:\n",
    "        db.t.modifiers.insert(dict(name=name))"
   ]
  },
  {
   "cell_type": "code",
   "execution_count": null,
   "metadata": {},
   "outputs": [],
   "source": [
    "#|export\n",
    "def populate_game_keys(db):\n",
    "    \"\"\"Populate the game_keys table with initial data\"\"\"\n",
    "    # Letters\n",
    "    letters = [chr(i) for i in range(ord('a'), ord('z')+1)]\n",
    "    \n",
    "    # Numbers\n",
    "    numbers = [str(i) for i in range(10)]\n",
    "    \n",
    "    # Function keys\n",
    "    function_keys = [f'f{i}' for i in range(1, 13)]\n",
    "    \n",
    "    # Special keys\n",
    "    special_keys = ['left_alt', 'enter', 'space', 'left_control', 'tab', '.', \n",
    "                   'left_shift', 'esc', 'del', ';', '-', '`', '=', \"'\",\n",
    "                   'mouse_left', 'mouse_right', 'mouse_side_front', \n",
    "                   'mouse_side_back', 'mouse_middle', 'mouse_sniper']\n",
    "    \n",
    "    # Add all keys\n",
    "    for key in letters + numbers + function_keys + special_keys:\n",
    "        db.t.game_keys.insert(dict(name=key))"
   ]
  },
  {
   "cell_type": "code",
   "execution_count": null,
   "metadata": {},
   "outputs": [],
   "source": [
    "#|export\n",
    "def populate_actions(db):\n",
    "    \"\"\"Populate the actions table with initial data\"\"\"\n",
    "    # Get category IDs for reference\n",
    "    categories = {c['name']: c['id'] for c in db.t.categories()}\n",
    "    \n",
    "    actions_by_category = {\n",
    "        'movement': [\n",
    "            'Forward', 'Backward', 'Left', 'Right', 'Jump/climb', \n",
    "            'Crouch', 'Prone', 'Sprint', 'Walk', 'Lean left', 'Lean right'\n",
    "        ],\n",
    "        'combat': [\n",
    "            'Fire primary', 'Aim', 'Reload', 'Switch weapon', \n",
    "            'Melee', 'Grenade', 'Special', 'Stim'\n",
    "        ],\n",
    "        'interaction': ['Use'],\n",
    "        'communication': ['Voice', 'Text', 'Ping', 'Emote'],\n",
    "        'menu': ['Menu', 'Map', 'Inventory', 'Special']\n",
    "    }\n",
    "    \n",
    "    # Add all actions with their category IDs\n",
    "    for category, actions in actions_by_category.items():\n",
    "        for action in actions:\n",
    "            db.t.actions.insert(dict(\n",
    "                name=action,\n",
    "                category_id=categories[category]\n",
    "            ))\n"
   ]
  },
  {
   "cell_type": "code",
   "execution_count": null,
   "metadata": {},
   "outputs": [],
   "source": [
    "#|export\n",
    "def create_default_game(db):\n",
    "    \"\"\"Create the default game template with standard bindings\"\"\"\n",
    "    # Create default game\n",
    "    db.t.games.insert(dict(\n",
    "        name='default',\n",
    "        game_type='template',\n",
    "        image=None\n",
    "    ))\n",
    "\n",
    "    # Default bindings dictionary\n",
    "    default_bindings = {\n",
    "        'Forward': ('w', 'hold'),\n",
    "        'Backward': ('s', 'hold'),\n",
    "        'Left': ('a', 'hold'),\n",
    "        'Right': ('d', 'hold'),\n",
    "        'Jump/climb': ('left_control', 'tap'),\n",
    "        'Crouch': ('c', 'tap'),\n",
    "        'Prone': ('space', 'tap'),\n",
    "        'Sprint': ('left_shift', 'hold'),\n",
    "        'Walk': ('left_alt', 'hold'),\n",
    "        'Lean left': ('mouse_side_front', 'hold'),\n",
    "        'Lean right': ('mouse_side_back', 'hold'),\n",
    "        'Fire primary': ('mouse_left', 'tap'),\n",
    "        'Aim': ('mouse_right', 'tap'),\n",
    "        'Reload': ('r', 'tap'),\n",
    "        'Switch weapon': ('mouse_middle', 'scroll'),\n",
    "        'Melee': ('h', 'tap'),\n",
    "        'Grenade': ('g', 'tap'),\n",
    "        'Special': ('q', 'tap'),\n",
    "        'Stim': ('f', 'tap'),\n",
    "        'Use': ('e', 'tap'),\n",
    "        'Voice': ('t', 'tap'),\n",
    "        'Text': ('enter', 'tap'),\n",
    "        'Ping': ('z', 'tap'),\n",
    "        'Emote': ('b', 'tap'),\n",
    "        'Menu': ('esc', 'tap'),\n",
    "        'Map': ('m', 'tap'),\n",
    "        'Inventory': ('tab', 'tap')\n",
    "    }\n",
    "\n",
    "    # Add all default bindings\n",
    "    # Add all bindings using existing add_binding function\n",
    "    for action, (key, modifier) in default_bindings.items():\n",
    "        add_binding(db, 'default', action, key, modifier)"
   ]
  },
  {
   "cell_type": "code",
   "execution_count": null,
   "metadata": {},
   "outputs": [],
   "source": [
    "#| export\n",
    "def setup_fresh_db():\n",
    "    \"\"\"Create a fresh database with all initial data\"\"\"\n",
    "    db = init_db()\n",
    "    create_tables(db)\n",
    "    populate_categories(db)\n",
    "    populate_modifiers(db)\n",
    "    populate_game_keys(db)\n",
    "    populate_actions(db)\n",
    "    create_default_game(db)\n",
    "    return db"
   ]
  },
  {
   "cell_type": "code",
   "execution_count": null,
   "metadata": {},
   "outputs": [],
   "source": [
    "# Start with a fresh database"
   ]
  },
  {
   "cell_type": "code",
   "execution_count": null,
   "metadata": {},
   "outputs": [
    {
     "data": {
      "text/plain": [
       "[{'id': 1, 'name': 'movement', 'description': 'Movement related actions'},\n",
       " {'id': 2, 'name': 'combat', 'description': 'Combat related actions'},\n",
       " {'id': 3, 'name': 'interaction', 'description': 'Manipulate the environment'},\n",
       " {'id': 4,\n",
       "  'name': 'communication',\n",
       "  'description': 'Communicate with friends and bots'},\n",
       " {'id': 5, 'name': 'menu', 'description': 'Access the menus'}]"
      ]
     },
     "execution_count": null,
     "metadata": {},
     "output_type": "execute_result"
    }
   ],
   "source": [
    "#| hide\n",
    "db = setup_fresh_db()\n",
    "db.t.categories()"
   ]
  },
  {
   "cell_type": "code",
   "execution_count": null,
   "metadata": {},
   "outputs": [],
   "source": [
    "# Use an existing database on disk"
   ]
  },
  {
   "cell_type": "code",
   "execution_count": null,
   "metadata": {},
   "outputs": [
    {
     "data": {
      "text/plain": [
       "[{'id': 1, 'name': 'movement', 'description': 'Movement related actions'},\n",
       " {'id': 2, 'name': 'combat', 'description': 'Combat related actions'},\n",
       " {'id': 3, 'name': 'interaction', 'description': 'Manipulate the environment'},\n",
       " {'id': 4,\n",
       "  'name': 'communication',\n",
       "  'description': 'Communicate with friends and bots'},\n",
       " {'id': 5, 'name': 'menu', 'description': 'Access the menus'}]"
      ]
     },
     "execution_count": null,
     "metadata": {},
     "output_type": "execute_result"
    }
   ],
   "source": [
    "#| hide\n",
    "db = init_db()\n",
    "db.t.categories()"
   ]
  },
  {
   "cell_type": "code",
   "execution_count": null,
   "metadata": {},
   "outputs": [],
   "source": [
    "#| hide\n",
    "import nbdev; nbdev.nbdev_export()"
   ]
  }
 ],
 "metadata": {
  "kernelspec": {
   "display_name": "python3",
   "language": "python",
   "name": "python3"
  }
 },
 "nbformat": 4,
 "nbformat_minor": 4
}
