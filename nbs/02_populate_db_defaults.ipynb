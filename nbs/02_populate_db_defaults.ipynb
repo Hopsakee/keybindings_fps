{
 "cells": [
  {
   "cell_type": "markdown",
   "metadata": {},
   "source": [
    "# populate database with defaults\n",
    "\n",
    "> Populate the created database with the default values for 'modifiers', 'actions', 'games', 'game_keys', 'categories' and 'bindings'. "
   ]
  },
  {
   "cell_type": "code",
   "execution_count": null,
   "metadata": {},
   "outputs": [],
   "source": [
    "#| default_exp populate_db_defaults"
   ]
  },
  {
   "cell_type": "code",
   "execution_count": null,
   "metadata": {},
   "outputs": [],
   "source": [
    "#| hide\n",
    "from nbdev.showdoc import *"
   ]
  },
  {
   "cell_type": "code",
   "execution_count": null,
   "metadata": {},
   "outputs": [
    {
     "name": "stdout",
     "output_type": "stream",
     "text": [
      "actions, bindings, categories, game_keys, games, modifiers, sqlite_stat1, sqlite_stat4\n"
     ]
    }
   ],
   "source": [
    "#| export\n",
    "from pathlib import Path\n",
    "from fasthtml.common import *\n",
    "from keybindings_fps.create_db import *\n",
    "from keybindings_fps.manipulate_db import *"
   ]
  },
  {
   "cell_type": "code",
   "execution_count": null,
   "metadata": {},
   "outputs": [],
   "source": [
    "#|export\n",
    "def populate_categories(db):\n",
    "    \"\"\"Populate the categories table with initial data\"\"\"\n",
    "    categories = [\n",
    "        ('movement', 'Movement related actions'),\n",
    "        ('combat', 'Combat related actions'),\n",
    "        ('interaction', 'Manipulate the environment'),\n",
    "        ('communication', 'Communicate with friends and bots'),\n",
    "        ('menu', 'Access the menus')\n",
    "    ]\n",
    "    \n",
    "    for name, description in categories:\n",
    "        db.t.categories.insert(dict(name=name, description=description))\n"
   ]
  },
  {
   "cell_type": "code",
   "execution_count": null,
   "metadata": {},
   "outputs": [],
   "source": [
    "#|export\n",
    "def populate_modifiers(db):\n",
    "    \"\"\"Populate the modifiers table with initial data\"\"\"\n",
    "    modifiers = ['tap', 'hold', 'scroll', 'double_tap']\n",
    "    \n",
    "    for name in modifiers:\n",
    "        db.t.modifiers.insert(dict(name=name))"
   ]
  },
  {
   "cell_type": "code",
   "execution_count": null,
   "metadata": {},
   "outputs": [],
   "source": [
    "#|export\n",
    "def populate_game_keys(db):\n",
    "    \"\"\"Populate the game_keys table with initial data\"\"\"\n",
    "    # Letters\n",
    "    letters = [chr(i) for i in range(ord('a'), ord('z')+1)]\n",
    "    \n",
    "    # Numbers\n",
    "    numbers = [str(i) for i in range(10)]\n",
    "    \n",
    "    # Function keys\n",
    "    function_keys = [f'f{i}' for i in range(1, 13)]\n",
    "    \n",
    "    # Special keys\n",
    "    special_keys = ['left_alt', 'enter', 'space', 'left_control', 'tab', '.', \n",
    "                   'left_shift', 'esc', 'del', ';', '-', '`', '=', \"'\",\n",
    "                   'mouse_left', 'mouse_right', 'mouse_side_front', \n",
    "                   'mouse_side_back', 'mouse_middle', 'mouse_sniper']\n",
    "    \n",
    "    # Add all keys\n",
    "    for key in letters + numbers + function_keys + special_keys:\n",
    "        db.t.game_keys.insert(dict(name=key))"
   ]
  },
  {
   "cell_type": "code",
   "execution_count": null,
   "metadata": {},
   "outputs": [],
   "source": [
    "#|export\n",
    "def populate_actions(db):\n",
    "    \"\"\"Populate the actions table with initial data\"\"\"\n",
    "    # Get category IDs for reference\n",
    "    categories = {c['name']: c['id'] for c in db.t.categories()}\n",
    "    \n",
    "    actions_by_category = {\n",
    "        'movement': [\n",
    "            'Forward', 'Backward', 'Left', 'Right', 'Jump/climb', \n",
    "            'Crouch', 'Prone', 'Sprint', 'Walk', 'Lean left', 'Lean right'\n",
    "        ],\n",
    "        'combat': [\n",
    "            'Fire primary', 'Aim', 'Reload', 'Switch weapon', \n",
    "            'Melee', 'Grenade', 'Special', 'Stim'\n",
    "        ],\n",
    "        'interaction': ['Use'],\n",
    "        'communication': ['Voice', 'Text', 'Ping', 'Emote'],\n",
    "        'menu': ['Menu', 'Map', 'Inventory', 'Special']\n",
    "    }\n",
    "    \n",
    "    # Add all actions with their category IDs\n",
    "    for category, actions in actions_by_category.items():\n",
    "        for action in actions:\n",
    "            db.t.actions.insert(dict(\n",
    "                name=action,\n",
    "                category_id=categories[category]\n",
    "            ))\n"
   ]
  },
  {
   "cell_type": "code",
   "execution_count": 1,
   "metadata": {},
   "outputs": [],
   "source": [
    "#|export\n",
    "def create_default_game(db):\n",
    "    \"\"\"Create the default game template with standard bindings\"\"\"\n",
    "    # Create default game\n",
    "    db.t.games.insert(dict(\n",
    "        name='default',\n",
    "        game_type='template',\n",
    "        image=None\n",
    "    ))\n",
    "\n",
    "    # Default bindings dictionary with category-based sort_order\n",
    "    default_bindings = {\n",
    "        # Movement (100-199)\n",
    "        'Forward': ('w', 'hold', None, 100),\n",
    "        'Backward': ('s', 'hold', None, 101),\n",
    "        'Left': ('a', 'hold', None, 102),\n",
    "        'Right': ('d', 'hold', None, 103),\n",
    "        'Jump/climb': ('left_control', 'tap', None, 104),\n",
    "        'Crouch': ('c', 'tap', None, 105),\n",
    "        'Prone': ('space', 'tap', None, 106),\n",
    "        'Sprint': ('left_shift', 'hold', None, 107),\n",
    "        'Walk': ('left_alt', 'hold', None, 108),\n",
    "        'Lean left': ('mouse_side_front', 'hold', None, 109),\n",
    "        'Lean right': ('mouse_side_back', 'hold', None, 110),\n",
    "        \n",
    "        # Combat (200-299)\n",
    "        'Fire primary': ('mouse_left', 'tap', None, 200),\n",
    "        'Aim': ('mouse_right', 'tap', None, 201),\n",
    "        'Reload': ('r', 'tap', None, 202),\n",
    "        'Switch weapon': ('mouse_middle', 'scroll', None, 203),\n",
    "        'Melee': ('h', 'tap', None, 204),\n",
    "        'Grenade': ('g', 'tap', None, 205),\n",
    "        'Special': ('q', 'tap', None, 206),\n",
    "        'Stim': ('f', 'tap', None, 207),\n",
    "        \n",
    "        # Interaction (300-399)\n",
    "        'Use': ('e', 'tap', None, 300),\n",
    "        \n",
    "        # Communication (400-499)\n",
    "        'Voice': ('t', 'tap', None, 400),\n",
    "        'Text': ('enter', 'tap', None, 401),\n",
    "        'Ping': ('z', 'tap', None, 402),\n",
    "        'Emote': ('b', 'tap', None, 403),\n",
    "        \n",
    "        # Menu (500-599)\n",
    "        'Menu': ('esc', 'tap', None, 500),\n",
    "        'Map': ('m', 'tap', None, 501),\n",
    "        'Inventory': ('tab', 'tap', None, 502)\n",
    "    }\n",
    "\n",
    "    # Add all bindings using existing add_binding function\n",
    "    for action, (key, modifier, description, sort_order) in default_bindings.items():\n",
    "        add_binding(db, 'default', action, key, modifier, description, sort_order)"
   ]
  },
  {
   "cell_type": "code",
   "execution_count": null,
   "metadata": {},
   "outputs": [],
   "source": [
    "#| export\n",
    "def setup_fresh_db():\n",
    "    \"\"\"Create a fresh database with all initial data\"\"\"\n",
    "    db = init_db()\n",
    "    create_tables(db)\n",
    "    populate_categories(db)\n",
    "    populate_modifiers(db)\n",
    "    populate_game_keys(db)\n",
    "    populate_actions(db)\n",
    "    create_default_game(db)\n",
    "    return db"
   ]
  },
  {
   "cell_type": "markdown",
   "metadata": {},
   "source": [
    "## Start with a fresh database\n",
    "\n",
    "WARNING: This will erase all data in the database!"
   ]
  },
  {
   "cell_type": "code",
   "execution_count": null,
   "metadata": {},
   "outputs": [],
   "source": [
    "#| export\n",
    "#db = setup_fresh_db()\n",
    "#db.t.categories()"
   ]
  },
  {
   "cell_type": "markdown",
   "metadata": {},
   "source": [
    "## Use an existing database on disk"
   ]
  },
  {
   "cell_type": "code",
   "execution_count": null,
   "metadata": {},
   "outputs": [
    {
     "data": {
      "text/plain": [
       "[{'id': 1, 'name': 'movement', 'description': 'Movement related actions'},\n",
       " {'id': 2, 'name': 'combat', 'description': 'Combat related actions'},\n",
       " {'id': 3, 'name': 'interaction', 'description': 'Manipulate the environment'},\n",
       " {'id': 4,\n",
       "  'name': 'communication',\n",
       "  'description': 'Communicate with friends and bots'},\n",
       " {'id': 5, 'name': 'menu', 'description': 'Access the menus'}]"
      ]
     },
     "execution_count": null,
     "metadata": {},
     "output_type": "execute_result"
    }
   ],
   "source": [
    "#| hide\n",
    "db = init_db()\n",
    "db.t.categories()"
   ]
  },
  {
   "cell_type": "code",
   "execution_count": null,
   "metadata": {},
   "outputs": [],
   "source": [
    "#| hide\n",
    "import nbdev; nbdev.nbdev_export()"
   ]
  }
 ],
 "metadata": {
  "kernelspec": {
   "display_name": "base",
   "language": "python",
   "name": "python3"
  },
  "language_info": {
   "codemirror_mode": {
    "name": "ipython",
    "version": 3
   },
   "file_extension": ".py",
   "mimetype": "text/x-python",
   "name": "python",
   "nbconvert_exporter": "python",
   "pygments_lexer": "ipython3",
   "version": "3.12.2"
  }
 },
 "nbformat": 4,
 "nbformat_minor": 4
}
