{
 "cells": [
  {
   "cell_type": "markdown",
   "metadata": {},
   "source": [
    "# populate database with defaults\n",
    "\n",
    "> Populate the created database with the default values for 'modifiers', 'actions', 'games', 'game_keys', 'categories' and 'bindings'. "
   ]
  },
  {
   "cell_type": "code",
   "execution_count": null,
   "metadata": {},
   "outputs": [],
   "source": [
    "#| default_exp populate_db_defaults"
   ]
  },
  {
   "cell_type": "code",
   "execution_count": null,
   "metadata": {},
   "outputs": [],
   "source": [
    "#| hide\n",
    "from nbdev.showdoc import *"
   ]
  },
  {
   "cell_type": "code",
   "execution_count": null,
   "metadata": {},
   "outputs": [],
   "source": [
    "#| export\n",
    "from pathlib import Path\n",
    "from fasthtml.common import *\n",
    "from keybindings_fps.create_db_structure import *\n",
    "from keybindings_fps.manipulate_db_contents import *"
   ]
  },
  {
   "cell_type": "code",
   "execution_count": null,
   "metadata": {},
   "outputs": [],
   "source": [
    "#|export\n",
    "def populate_categories(db):\n",
    "    \"\"\"Populate the categories table with initial data\"\"\"\n",
    "    categories = [\n",
    "        ('movement', 'Movement related actions'),\n",
    "        ('combat', 'Combat related actions'),\n",
    "        ('interaction', 'Manipulate the environment'),\n",
    "        ('communication', 'Communicate with friends and bots'),\n",
    "        ('menu', 'Access the menus')\n",
    "    ]\n",
    "    \n",
    "    for name, description in categories:\n",
    "        db.t.categories.insert(dict(name=name, description=description))\n"
   ]
  },
  {
   "cell_type": "code",
   "execution_count": null,
   "metadata": {},
   "outputs": [],
   "source": [
    "#|export\n",
    "def populate_modifiers(db):\n",
    "    \"\"\"Populate the modifiers table with initial data\"\"\"\n",
    "    modifiers = ['tap', 'hold', 'scroll', 'double_tap']\n",
    "    \n",
    "    for name in modifiers:\n",
    "        db.t.modifiers.insert(dict(name=name))"
   ]
  },
  {
   "cell_type": "code",
   "execution_count": null,
   "metadata": {},
   "outputs": [],
   "source": [
    "#|export\n",
    "def populate_game_keys(db):\n",
    "    \"\"\"Populate the game_keys table with initial data\"\"\"\n",
    "    # Letters\n",
    "    letters = [chr(i) for i in range(ord('a'), ord('z')+1)]\n",
    "    \n",
    "    # Numbers\n",
    "    numbers = [str(i) for i in range(10)]\n",
    "    \n",
    "    # Function keys\n",
    "    function_keys = [f'f{i}' for i in range(1, 13)]\n",
    "    \n",
    "    # Special keys\n",
    "    special_keys = ['left_alt', 'enter', 'space', 'left_control', 'tab', '.', \n",
    "                   'left_shift', 'esc', 'del', ';', '-', '`', '=', \"'\",\n",
    "                   'mouse_left', 'mouse_right', 'mouse_side_front', \n",
    "                   'mouse_side_back', 'mouse_middle', 'mouse_sniper']\n",
    "    \n",
    "    # Add all keys\n",
    "    for key in letters + numbers + function_keys + special_keys:\n",
    "        db.t.game_keys.insert(dict(name=key))"
   ]
  },
  {
   "cell_type": "code",
   "execution_count": null,
   "metadata": {},
   "outputs": [],
   "source": [
    "#|export\n",
    "def populate_actions(db):\n",
    "    \"\"\"Populate the actions table with initial data\"\"\"\n",
    "    # Get category IDs for reference\n",
    "    categories = {c['name']: c['id'] for c in db.t.categories()}\n",
    "    \n",
    "    actions_by_category = {\n",
    "        'movement': [\n",
    "            'Forward', 'Backward', 'Left', 'Right', 'Jump/climb', \n",
    "            'Crouch', 'Prone', 'Sprint', 'Walk', 'Lean left', 'Lean right'\n",
    "        ],\n",
    "        'combat': [\n",
    "            'Fire primary', 'Aim', 'Reload', 'Switch weapon', \n",
    "            'Melee', 'Grenade', 'Special', 'Stim'\n",
    "        ],\n",
    "        'interaction': ['Use'],\n",
    "        'communication': ['Voice', 'Text', 'Ping', 'Emote'],\n",
    "        'menu': ['Menu', 'Map', 'Inventory', 'Special']\n",
    "    }\n",
    "    \n",
    "    # Add all actions with their category IDs\n",
    "    for category, actions in actions_by_category.items():\n",
    "        for action in actions:\n",
    "            db.t.actions.insert(dict(\n",
    "                name=action,\n",
    "                category_id=categories[category]\n",
    "            ))\n"
   ]
  },
  {
   "cell_type": "code",
   "execution_count": null,
   "metadata": {},
   "outputs": [],
   "source": [
    "#|export\n",
    "def create_default_game(db):\n",
    "    \"\"\"Create the default game template with standard bindings\"\"\"\n",
    "    # Create default game\n",
    "    db.t.games.insert(dict(\n",
    "        name='default',\n",
    "        game_type='template',\n",
    "        image=None\n",
    "    ))\n",
    "\n",
    "    # Default bindings dictionary with category-based sort_order\n",
    "    default_bindings = {\n",
    "        # Movement (100-199)\n",
    "        'Forward': ('w', 'hold', None, 101),\n",
    "        'Backward': ('s', 'hold', None, 102),\n",
    "        'Left': ('a', 'hold', None, 103),\n",
    "        'Right': ('d', 'hold', None, 104),\n",
    "        'Jump/climb': ('left_control', 'tap', None, 105),\n",
    "        'Crouch': ('c', 'tap', None, 106),\n",
    "        'Prone': ('space', 'tap', None, 107),\n",
    "        'Sprint': ('left_shift', 'hold', None, 108),\n",
    "        'Walk': ('left_alt', 'hold', None, 109),\n",
    "        'Lean left': ('mouse_side_front', 'hold', None, 110),\n",
    "        'Lean right': ('mouse_side_back', 'hold', None, 111),\n",
    "        \n",
    "        # Combat (200-299)\n",
    "        'Fire primary': ('mouse_left', 'tap', None, 201),\n",
    "        'Aim': ('mouse_right', 'tap', None, 202),\n",
    "        'Reload': ('r', 'tap', None, 203),\n",
    "        'Switch weapon': ('mouse_middle', 'scroll', None, 204),\n",
    "        'Melee': ('h', 'tap', None, 205),\n",
    "        'Grenade': ('g', 'tap', None, 206),\n",
    "        'Special': ('q', 'tap', None, 207),\n",
    "        'Stim': ('f', 'tap', None, 208),\n",
    "        \n",
    "        # Interaction (300-399)\n",
    "        'Use': ('e', 'tap', None, 301),\n",
    "        \n",
    "        # Communication (400-499)\n",
    "        'Voice': ('t', 'tap', None, 401),\n",
    "        'Text': ('enter', 'tap', None, 402),\n",
    "        'Ping': ('z', 'tap', None, 403),\n",
    "        'Emote': ('b', 'tap', None, 404),\n",
    "        \n",
    "        # Menu (500-599)\n",
    "        'Menu': ('esc', 'tap', None, 501),\n",
    "        'Map': ('m', 'tap', None, 502),\n",
    "        'Inventory': ('tab', 'tap', None, 503)\n",
    "    }\n",
    "\n",
    "    # Add all bindings using existing add_binding function\n",
    "    for action, (key, modifier, description, sort_order) in default_bindings.items():\n",
    "        add_binding(db, 'default', action, key, modifier, description, sort_order)"
   ]
  },
  {
   "cell_type": "code",
   "execution_count": null,
   "metadata": {},
   "outputs": [],
   "source": [
    "#| export\n",
    "def setup_fresh_db():\n",
    "    \"\"\"Create a fresh database with all initial data\"\"\"\n",
    "    db = init_db()\n",
    "    create_tables(db)\n",
    "    populate_categories(db)\n",
    "    populate_modifiers(db)\n",
    "    populate_game_keys(db)\n",
    "    populate_actions(db)\n",
    "    create_default_game(db)\n",
    "    return db"
   ]
  },
  {
   "cell_type": "markdown",
   "metadata": {},
   "source": [
    "## Start with a fresh database\n",
    "\n",
    "WARNING: This will erase all data in the database!"
   ]
  },
  {
   "cell_type": "code",
   "execution_count": null,
   "metadata": {},
   "outputs": [],
   "source": [
    "#| export\n",
    "db = setup_fresh_db()\n",
    "#db.t.categories()"
   ]
  },
  {
   "cell_type": "markdown",
   "metadata": {},
   "source": [
    "## Use an existing database on disk"
   ]
  },
  {
   "cell_type": "code",
   "execution_count": null,
   "metadata": {},
   "outputs": [
    {
     "data": {
      "text/plain": [
       "[{'id': 1, 'name': 'movement', 'description': 'Movement related actions'},\n",
       " {'id': 2, 'name': 'combat', 'description': 'Combat related actions'},\n",
       " {'id': 3, 'name': 'interaction', 'description': 'Manipulate the environment'},\n",
       " {'id': 4,\n",
       "  'name': 'communication',\n",
       "  'description': 'Communicate with friends and bots'},\n",
       " {'id': 5, 'name': 'menu', 'description': 'Access the menus'}]"
      ]
     },
     "execution_count": null,
     "metadata": {},
     "output_type": "execute_result"
    }
   ],
   "source": [
    "db = init_db()\n",
    "db.t.categories()"
   ]
  },
  {
   "cell_type": "code",
   "execution_count": null,
   "metadata": {},
   "outputs": [
    {
     "data": {
      "text/plain": [
       "[{'id': 1,\n",
       "  'game_id': 1,\n",
       "  'action_id': 1,\n",
       "  'key_id': 23,\n",
       "  'modifier_id': 2,\n",
       "  'description': None,\n",
       "  'sort_order': 101},\n",
       " {'id': 2,\n",
       "  'game_id': 1,\n",
       "  'action_id': 2,\n",
       "  'key_id': 19,\n",
       "  'modifier_id': 2,\n",
       "  'description': None,\n",
       "  'sort_order': 102},\n",
       " {'id': 3,\n",
       "  'game_id': 1,\n",
       "  'action_id': 3,\n",
       "  'key_id': 1,\n",
       "  'modifier_id': 2,\n",
       "  'description': None,\n",
       "  'sort_order': 103},\n",
       " {'id': 4,\n",
       "  'game_id': 1,\n",
       "  'action_id': 4,\n",
       "  'key_id': 4,\n",
       "  'modifier_id': 2,\n",
       "  'description': None,\n",
       "  'sort_order': 104},\n",
       " {'id': 5,\n",
       "  'game_id': 1,\n",
       "  'action_id': 5,\n",
       "  'key_id': 52,\n",
       "  'modifier_id': 1,\n",
       "  'description': None,\n",
       "  'sort_order': 105},\n",
       " {'id': 6,\n",
       "  'game_id': 1,\n",
       "  'action_id': 6,\n",
       "  'key_id': 3,\n",
       "  'modifier_id': 1,\n",
       "  'description': None,\n",
       "  'sort_order': 106},\n",
       " {'id': 7,\n",
       "  'game_id': 1,\n",
       "  'action_id': 7,\n",
       "  'key_id': 51,\n",
       "  'modifier_id': 1,\n",
       "  'description': None,\n",
       "  'sort_order': 107},\n",
       " {'id': 8,\n",
       "  'game_id': 1,\n",
       "  'action_id': 8,\n",
       "  'key_id': 55,\n",
       "  'modifier_id': 2,\n",
       "  'description': None,\n",
       "  'sort_order': 108},\n",
       " {'id': 9,\n",
       "  'game_id': 1,\n",
       "  'action_id': 9,\n",
       "  'key_id': 49,\n",
       "  'modifier_id': 2,\n",
       "  'description': None,\n",
       "  'sort_order': 109},\n",
       " {'id': 10,\n",
       "  'game_id': 1,\n",
       "  'action_id': 10,\n",
       "  'key_id': 65,\n",
       "  'modifier_id': 2,\n",
       "  'description': None,\n",
       "  'sort_order': 110},\n",
       " {'id': 11,\n",
       "  'game_id': 1,\n",
       "  'action_id': 11,\n",
       "  'key_id': 66,\n",
       "  'modifier_id': 2,\n",
       "  'description': None,\n",
       "  'sort_order': 111},\n",
       " {'id': 12,\n",
       "  'game_id': 1,\n",
       "  'action_id': 12,\n",
       "  'key_id': 63,\n",
       "  'modifier_id': 1,\n",
       "  'description': None,\n",
       "  'sort_order': 201},\n",
       " {'id': 13,\n",
       "  'game_id': 1,\n",
       "  'action_id': 13,\n",
       "  'key_id': 64,\n",
       "  'modifier_id': 1,\n",
       "  'description': None,\n",
       "  'sort_order': 202},\n",
       " {'id': 14,\n",
       "  'game_id': 1,\n",
       "  'action_id': 14,\n",
       "  'key_id': 18,\n",
       "  'modifier_id': 1,\n",
       "  'description': None,\n",
       "  'sort_order': 203},\n",
       " {'id': 15,\n",
       "  'game_id': 1,\n",
       "  'action_id': 15,\n",
       "  'key_id': 67,\n",
       "  'modifier_id': 3,\n",
       "  'description': None,\n",
       "  'sort_order': 204},\n",
       " {'id': 16,\n",
       "  'game_id': 1,\n",
       "  'action_id': 16,\n",
       "  'key_id': 8,\n",
       "  'modifier_id': 1,\n",
       "  'description': None,\n",
       "  'sort_order': 205},\n",
       " {'id': 17,\n",
       "  'game_id': 1,\n",
       "  'action_id': 17,\n",
       "  'key_id': 7,\n",
       "  'modifier_id': 1,\n",
       "  'description': None,\n",
       "  'sort_order': 206},\n",
       " {'id': 18,\n",
       "  'game_id': 1,\n",
       "  'action_id': 18,\n",
       "  'key_id': 17,\n",
       "  'modifier_id': 1,\n",
       "  'description': None,\n",
       "  'sort_order': 207},\n",
       " {'id': 19,\n",
       "  'game_id': 1,\n",
       "  'action_id': 19,\n",
       "  'key_id': 6,\n",
       "  'modifier_id': 1,\n",
       "  'description': None,\n",
       "  'sort_order': 208},\n",
       " {'id': 20,\n",
       "  'game_id': 1,\n",
       "  'action_id': 20,\n",
       "  'key_id': 5,\n",
       "  'modifier_id': 1,\n",
       "  'description': None,\n",
       "  'sort_order': 301},\n",
       " {'id': 21,\n",
       "  'game_id': 1,\n",
       "  'action_id': 21,\n",
       "  'key_id': 20,\n",
       "  'modifier_id': 1,\n",
       "  'description': None,\n",
       "  'sort_order': 401},\n",
       " {'id': 22,\n",
       "  'game_id': 1,\n",
       "  'action_id': 22,\n",
       "  'key_id': 50,\n",
       "  'modifier_id': 1,\n",
       "  'description': None,\n",
       "  'sort_order': 402},\n",
       " {'id': 23,\n",
       "  'game_id': 1,\n",
       "  'action_id': 23,\n",
       "  'key_id': 26,\n",
       "  'modifier_id': 1,\n",
       "  'description': None,\n",
       "  'sort_order': 403},\n",
       " {'id': 24,\n",
       "  'game_id': 1,\n",
       "  'action_id': 24,\n",
       "  'key_id': 2,\n",
       "  'modifier_id': 1,\n",
       "  'description': None,\n",
       "  'sort_order': 404},\n",
       " {'id': 25,\n",
       "  'game_id': 1,\n",
       "  'action_id': 25,\n",
       "  'key_id': 56,\n",
       "  'modifier_id': 1,\n",
       "  'description': None,\n",
       "  'sort_order': 501},\n",
       " {'id': 26,\n",
       "  'game_id': 1,\n",
       "  'action_id': 26,\n",
       "  'key_id': 13,\n",
       "  'modifier_id': 1,\n",
       "  'description': None,\n",
       "  'sort_order': 502},\n",
       " {'id': 27,\n",
       "  'game_id': 1,\n",
       "  'action_id': 27,\n",
       "  'key_id': 53,\n",
       "  'modifier_id': 1,\n",
       "  'description': None,\n",
       "  'sort_order': 503}]"
      ]
     },
     "execution_count": null,
     "metadata": {},
     "output_type": "execute_result"
    }
   ],
   "source": [
    "db.t.bindings()"
   ]
  },
  {
   "cell_type": "code",
   "execution_count": null,
   "metadata": {},
   "outputs": [
    {
     "data": {
      "text/plain": [
       "<generator object Queryable.rows_where>"
      ]
     },
     "execution_count": null,
     "metadata": {},
     "output_type": "execute_result"
    }
   ],
   "source": [
    "game_id=1\n",
    "db.t.bindings.rows_where(\"game_id = ?\", game_id)"
   ]
  },
  {
   "cell_type": "code",
   "execution_count": null,
   "metadata": {},
   "outputs": [
    {
     "data": {
      "text/plain": [
       "actions, bindings, categories, game_keys, games, modifiers, sqlite_stat1, sqlite_stat4"
      ]
     },
     "execution_count": null,
     "metadata": {},
     "output_type": "execute_result"
    }
   ],
   "source": [
    "db.t"
   ]
  },
  {
   "cell_type": "code",
   "execution_count": null,
   "metadata": {},
   "outputs": [],
   "source": [
    "#| hide\n",
    "import nbdev; nbdev.nbdev_export()"
   ]
  }
 ],
 "metadata": {
  "kernelspec": {
   "display_name": "python3",
   "language": "python",
   "name": "python3"
  }
 },
 "nbformat": 4,
 "nbformat_minor": 4
}
