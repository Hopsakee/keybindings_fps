{
 "cells": [
  {
   "cell_type": "markdown",
   "metadata": {},
   "source": [
    "# populate database with defaults\n",
    "\n",
    "> Populate the created database with the default values for 'modifiers', 'actions', 'games', 'game_keys', 'categories' and 'bindings'. "
   ]
  },
  {
   "cell_type": "code",
   "execution_count": 1,
   "metadata": {},
   "outputs": [],
   "source": [
    "#| default_exp populate_db_defaults"
   ]
  },
  {
   "cell_type": "code",
   "execution_count": 2,
   "metadata": {},
   "outputs": [],
   "source": [
    "#| hide\n",
    "from nbdev.showdoc import *"
   ]
  },
  {
   "cell_type": "code",
   "execution_count": 8,
   "metadata": {},
   "outputs": [],
   "source": [
    "#| export\n",
    "from pathlib import Path\n",
    "from fasthtml.common import *\n",
    "from keybindings_fps.create_db import *"
   ]
  },
  {
   "cell_type": "code",
   "execution_count": 9,
   "metadata": {},
   "outputs": [],
   "source": [
    "#|export\n",
    "def populate_categories(db):\n",
    "    \"\"\"Populate the categories table with initial data\"\"\"\n",
    "    categories = [\n",
    "        ('movement', 'Movement related actions'),\n",
    "        ('combat', 'Combat related actions'),\n",
    "        ('interaction', 'Manipulate the environment'),\n",
    "        ('communication', 'Communicate with friends and bots'),\n",
    "        ('menu', 'Access the menus')\n",
    "    ]\n",
    "    \n",
    "    for name, description in categories:\n",
    "        db.t.categories.insert(dict(name=name, description=description))\n"
   ]
  },
  {
   "cell_type": "code",
   "execution_count": 10,
   "metadata": {},
   "outputs": [],
   "source": [
    "#|export\n",
    "def populate_modifiers(db):\n",
    "    \"\"\"Populate the modifiers table with initial data\"\"\"\n",
    "    modifiers = ['tap', 'hold', 'scroll', 'double_tap']\n",
    "    \n",
    "    for name in modifiers:\n",
    "        db.t.modifiers.insert(dict(name=name))"
   ]
  },
  {
   "cell_type": "code",
   "execution_count": 12,
   "metadata": {},
   "outputs": [],
   "source": [
    "#|export\n",
    "def populate_game_keys(db):\n",
    "    \"\"\"Populate the game_keys table with initial data\"\"\"\n",
    "    # Letters\n",
    "    letters = [chr(i) for i in range(ord('a'), ord('z')+1)]\n",
    "    \n",
    "    # Numbers\n",
    "    numbers = [str(i) for i in range(10)]\n",
    "    \n",
    "    # Function keys\n",
    "    function_keys = [f'f{i}' for i in range(1, 13)]\n",
    "    \n",
    "    # Special keys\n",
    "    special_keys = ['left_alt', 'enter', 'space', 'left_control', 'tab', '.', \n",
    "                   'left_shift', 'esc', 'del', ';', '-', '`', '=', \"'\",\n",
    "                   'mouse_left', 'mouse_right', 'mouse_side_front', \n",
    "                   'mouse_side_back', 'mouse_middle', 'mouse_sniper']\n",
    "    \n",
    "    # Add all keys\n",
    "    for key in letters + numbers + function_keys + special_keys:\n",
    "        db.t.game_keys.insert(dict(name=key))"
   ]
  },
  {
   "cell_type": "code",
   "execution_count": 13,
   "metadata": {},
   "outputs": [],
   "source": [
    "#| export\n",
    "def setup_fresh_db():\n",
    "    \"\"\"Create a fresh database with all initial data\"\"\"\n",
    "    db = init_db()\n",
    "    create_tables(db)\n",
    "    populate_categories(db)\n",
    "    populate_modifiers(db)\n",
    "    populate_game_keys(db)\n",
    "    return db"
   ]
  },
  {
   "cell_type": "code",
   "execution_count": 14,
   "metadata": {},
   "outputs": [],
   "source": [
    "db = setup_fresh_db()"
   ]
  },
  {
   "cell_type": "code",
   "execution_count": 15,
   "metadata": {},
   "outputs": [
    {
     "data": {
      "text/plain": [
       "actions, bindings, categories, game_keys, games, modifiers"
      ]
     },
     "execution_count": 15,
     "metadata": {},
     "output_type": "execute_result"
    }
   ],
   "source": [
    "db.t"
   ]
  },
  {
   "cell_type": "code",
   "execution_count": 17,
   "metadata": {},
   "outputs": [
    {
     "data": {
      "text/plain": [
       "[{'id': 1, 'name': 'movement', 'description': 'Movement related actions'},\n",
       " {'id': 2, 'name': 'combat', 'description': 'Combat related actions'},\n",
       " {'id': 3, 'name': 'interaction', 'description': 'Manipulate the environment'},\n",
       " {'id': 4,\n",
       "  'name': 'communication',\n",
       "  'description': 'Communicate with friends and bots'},\n",
       " {'id': 5, 'name': 'menu', 'description': 'Access the menus'}]"
      ]
     },
     "execution_count": 17,
     "metadata": {},
     "output_type": "execute_result"
    }
   ],
   "source": [
    "db.t.categories()"
   ]
  },
  {
   "cell_type": "code",
   "execution_count": null,
   "metadata": {},
   "outputs": [],
   "source": [
    "#| hide\n",
    "import nbdev; nbdev.nbdev_export()"
   ]
  }
 ],
 "metadata": {
  "kernelspec": {
   "display_name": "base",
   "language": "python",
   "name": "python3"
  },
  "language_info": {
   "codemirror_mode": {
    "name": "ipython",
    "version": 3
   },
   "file_extension": ".py",
   "mimetype": "text/x-python",
   "name": "python",
   "nbconvert_exporter": "python",
   "pygments_lexer": "ipython3",
   "version": "3.12.2"
  }
 },
 "nbformat": 4,
 "nbformat_minor": 4
}
